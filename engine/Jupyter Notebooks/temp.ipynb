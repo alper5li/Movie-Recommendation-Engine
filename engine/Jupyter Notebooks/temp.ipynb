{
 "cells": [
  {
   "cell_type": "code",
   "execution_count": 51,
   "metadata": {},
   "outputs": [],
   "source": [
    "import pandas as pd\n",
    "import numpy as np\n",
    "import matplotlib.pyplot as plt\n",
    "from tqdm import tqdm\n",
    "import math\n",
    "from API.RequestAPI import getPlot\n",
    "from imdb import IMDb\n",
    "\n",
    "ia = IMDb()\n",
    "df = pd.read_csv(\"C:\\\\Users\\\\alper\\\\PCSC\\\\Movie-Recommendation-Engine\\\\engine\\\\tempdata.csv\", delimiter=',', encoding='utf-8', low_memory=False)\n",
    "\n",
    "# 'tconst' sütunundaki 'tt' ön ekini kaldırma ve gereksiz baştaki sıfırları atma\n",
    "df['tconst'] = df['tconst'].str.replace('tt', '')  # 'tt' ön ekini kaldırma\n",
    "df['tconst'] = df['tconst'].str.lstrip('0')  # Gereksiz baştaki sıfırları atma\n",
    "\n",
    "# Eğer sonuçları tam sayıya dönüştürmek istiyorsanız:\n",
    "df['tconst'] = pd.to_numeric(df['tconst'])"
   ]
  },
  {
   "cell_type": "code",
   "execution_count": 78,
   "metadata": {},
   "outputs": [
    {
     "name": "stdout",
     "output_type": "stream",
     "text": [
      "Empty DataFrame\n",
      "Columns: [id, keys, words]\n",
      "Index: []\n",
      "           id keys words\n",
      "7       45325  NaN   NaN\n",
      "32      78802  NaN   NaN\n",
      "36     139405  NaN   NaN\n",
      "50     117164  NaN   NaN\n",
      "55     124057  NaN   NaN\n",
      "...       ...  ...   ...\n",
      "46412  222848  NaN   NaN\n",
      "46413   30840  NaN   NaN\n",
      "46416   67758  NaN   NaN\n",
      "46417  227506  NaN   NaN\n",
      "46418  461257  NaN   NaN\n",
      "\n",
      "[14795 rows x 3 columns]\n",
      "           id keys words\n",
      "7       45325  NaN   NaN\n",
      "32      78802  NaN   NaN\n",
      "36     139405  NaN   NaN\n",
      "50     117164  NaN   NaN\n",
      "55     124057  NaN   NaN\n",
      "...       ...  ...   ...\n",
      "46412  222848  NaN   NaN\n",
      "46413   30840  NaN   NaN\n",
      "46416   67758  NaN   NaN\n",
      "46417  227506  NaN   NaN\n",
      "46418  461257  NaN   NaN\n",
      "\n",
      "[14795 rows x 3 columns]\n"
     ]
    }
   ],
   "source": [
    "import json\n",
    "\n",
    "keywords = pd.read_csv(\"C:\\\\Users\\\\alper\\\\Downloads\\\\ds\\\\keywords.csv\",delimiter=',',encoding='utf-8', low_memory=False)\n",
    "\n",
    "sorted = keywords.sort_values(by='id',ascending=False)\n",
    "def process_keywords(row):\n",
    "        keyword_list = eval(row['keywords'])\n",
    "\n",
    "        keyIDs = \"\"\n",
    "\n",
    "        words = \"\"\n",
    "\n",
    "        for json_str in keyword_list:\n",
    "            for keyID,value in json_str.items():\n",
    "                if keyID == \"id\":\n",
    "                    keyIDs += f'{value} '\n",
    "                if keyID == \"name\":\n",
    "                    words += f'{value} '\n",
    "                    \n",
    "        return pd.Series({'keys': keyIDs, 'words': words})\n",
    "    \n",
    "keywords[['keys', 'words']] = keywords.apply(process_keywords, axis=1)\n",
    "\n",
    "    \n",
    "keywords = keywords.drop(columns='keywords')\n",
    "empty_rows = keywords[keywords.isnull().any(axis=1)]\n",
    "print(empty_rows)\n",
    "\n",
    "keywords = keywords.replace('', np.nan)  # Boş string değerleri NaN ile değiştirme\n",
    "\n",
    "empty_rows = keywords[keywords.isnull().any(axis=1)]\n",
    "print(empty_rows)\n",
    "\n",
    "keywords.dropna(axis=0, how='any', inplace=True)\n",
    "\n",
    "print(empty_rows)\n",
    "\n",
    "keywords.to_csv('keyword.csv', index=False)\n",
    "\n"
   ]
  },
  {
   "cell_type": "code",
   "execution_count": 5,
   "metadata": {},
   "outputs": [
    {
     "name": "stderr",
     "output_type": "stream",
     "text": [
      "100%|██████████| 31624/31624 [00:02<00:00, 12223.18it/s]"
     ]
    },
    {
     "name": "stdout",
     "output_type": "stream",
     "text": [
      "12964\n"
     ]
    },
    {
     "name": "stderr",
     "output_type": "stream",
     "text": [
      "\n"
     ]
    }
   ],
   "source": [
    "import pandas as pd\n",
    "from tqdm import tqdm\n",
    "keywords = pd.read_csv(\"keyword.csv\",delimiter=',',encoding='utf-8', low_memory=False)\n",
    "\n",
    "arr = []\n",
    "for i in tqdm(range(len(keywords))):\n",
    "    row = keywords.iloc[i]\n",
    "    words = row['words'].split()\n",
    "    for word in words:\n",
    "        if word not in arr:\n",
    "            arr.append(word)\n",
    "        \n",
    "print(len(arr))"
   ]
  },
  {
   "cell_type": "markdown",
   "metadata": {},
   "source": [
    "\n"
   ]
  }
 ],
 "metadata": {
  "kernelspec": {
   "display_name": "Python 3",
   "language": "python",
   "name": "python3"
  },
  "language_info": {
   "codemirror_mode": {
    "name": "ipython",
    "version": 3
   },
   "file_extension": ".py",
   "mimetype": "text/x-python",
   "name": "python",
   "nbconvert_exporter": "python",
   "pygments_lexer": "ipython3",
   "version": "3.11.5"
  }
 },
 "nbformat": 4,
 "nbformat_minor": 2
}
