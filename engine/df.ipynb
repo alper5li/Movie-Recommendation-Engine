{
 "cells": [
  {
   "cell_type": "code",
   "execution_count": 2,
   "id": "dd6f4619",
   "metadata": {},
   "outputs": [],
   "source": [
    "import pandas as pd\n",
    "import numpy as np\n",
    "import matplotlib.pyplot as plt"
   ]
  },
  {
   "cell_type": "code",
   "execution_count": 3,
   "id": "17ca7dd7",
   "metadata": {},
   "outputs": [],
   "source": [
    "df1 = pd.read_csv(\"C:\\\\Users\\\\alper\\\\Desktop\\\\dataset\\\\title.basics.tsv\\\\data.tsv\", delimiter='\\t', encoding='utf-8', low_memory=False)"
   ]
  },
  {
   "cell_type": "code",
   "execution_count": 4,
   "id": "57778407",
   "metadata": {},
   "outputs": [
    {
     "data": {
      "text/html": [
       "<div>\n",
       "<style scoped>\n",
       "    .dataframe tbody tr th:only-of-type {\n",
       "        vertical-align: middle;\n",
       "    }\n",
       "\n",
       "    .dataframe tbody tr th {\n",
       "        vertical-align: top;\n",
       "    }\n",
       "\n",
       "    .dataframe thead th {\n",
       "        text-align: right;\n",
       "    }\n",
       "</style>\n",
       "<table border=\"1\" class=\"dataframe\">\n",
       "  <thead>\n",
       "    <tr style=\"text-align: right;\">\n",
       "      <th></th>\n",
       "      <th>tconst</th>\n",
       "      <th>titleType</th>\n",
       "      <th>primaryTitle</th>\n",
       "      <th>originalTitle</th>\n",
       "      <th>isAdult</th>\n",
       "      <th>startYear</th>\n",
       "      <th>endYear</th>\n",
       "      <th>runtimeMinutes</th>\n",
       "      <th>genres</th>\n",
       "    </tr>\n",
       "  </thead>\n",
       "  <tbody>\n",
       "    <tr>\n",
       "      <th>0</th>\n",
       "      <td>tt0000001</td>\n",
       "      <td>short</td>\n",
       "      <td>Carmencita</td>\n",
       "      <td>Carmencita</td>\n",
       "      <td>0</td>\n",
       "      <td>1894</td>\n",
       "      <td>\\N</td>\n",
       "      <td>1</td>\n",
       "      <td>Documentary,Short</td>\n",
       "    </tr>\n",
       "    <tr>\n",
       "      <th>1</th>\n",
       "      <td>tt0000002</td>\n",
       "      <td>short</td>\n",
       "      <td>Le clown et ses chiens</td>\n",
       "      <td>Le clown et ses chiens</td>\n",
       "      <td>0</td>\n",
       "      <td>1892</td>\n",
       "      <td>\\N</td>\n",
       "      <td>5</td>\n",
       "      <td>Animation,Short</td>\n",
       "    </tr>\n",
       "    <tr>\n",
       "      <th>2</th>\n",
       "      <td>tt0000003</td>\n",
       "      <td>short</td>\n",
       "      <td>Pauvre Pierrot</td>\n",
       "      <td>Pauvre Pierrot</td>\n",
       "      <td>0</td>\n",
       "      <td>1892</td>\n",
       "      <td>\\N</td>\n",
       "      <td>4</td>\n",
       "      <td>Animation,Comedy,Romance</td>\n",
       "    </tr>\n",
       "    <tr>\n",
       "      <th>3</th>\n",
       "      <td>tt0000004</td>\n",
       "      <td>short</td>\n",
       "      <td>Un bon bock</td>\n",
       "      <td>Un bon bock</td>\n",
       "      <td>0</td>\n",
       "      <td>1892</td>\n",
       "      <td>\\N</td>\n",
       "      <td>12</td>\n",
       "      <td>Animation,Short</td>\n",
       "    </tr>\n",
       "    <tr>\n",
       "      <th>4</th>\n",
       "      <td>tt0000005</td>\n",
       "      <td>short</td>\n",
       "      <td>Blacksmith Scene</td>\n",
       "      <td>Blacksmith Scene</td>\n",
       "      <td>0</td>\n",
       "      <td>1893</td>\n",
       "      <td>\\N</td>\n",
       "      <td>1</td>\n",
       "      <td>Comedy,Short</td>\n",
       "    </tr>\n",
       "  </tbody>\n",
       "</table>\n",
       "</div>"
      ],
      "text/plain": [
       "      tconst titleType            primaryTitle           originalTitle  \\\n",
       "0  tt0000001     short              Carmencita              Carmencita   \n",
       "1  tt0000002     short  Le clown et ses chiens  Le clown et ses chiens   \n",
       "2  tt0000003     short          Pauvre Pierrot          Pauvre Pierrot   \n",
       "3  tt0000004     short             Un bon bock             Un bon bock   \n",
       "4  tt0000005     short        Blacksmith Scene        Blacksmith Scene   \n",
       "\n",
       "  isAdult startYear endYear runtimeMinutes                    genres  \n",
       "0       0      1894      \\N              1         Documentary,Short  \n",
       "1       0      1892      \\N              5           Animation,Short  \n",
       "2       0      1892      \\N              4  Animation,Comedy,Romance  \n",
       "3       0      1892      \\N             12           Animation,Short  \n",
       "4       0      1893      \\N              1              Comedy,Short  "
      ]
     },
     "execution_count": 4,
     "metadata": {},
     "output_type": "execute_result"
    }
   ],
   "source": [
    "df1.head()"
   ]
  },
  {
   "cell_type": "code",
   "execution_count": 5,
   "id": "e0dc317f",
   "metadata": {},
   "outputs": [],
   "source": [
    "df2 = pd.read_csv(\"C:\\\\Users\\\\alper\\\\Desktop\\dataset\\\\title.ratings.tsv\\\\data.tsv\", delimiter='\\t', encoding='utf-8')"
   ]
  },
  {
   "cell_type": "code",
   "execution_count": 6,
   "id": "5f598da3",
   "metadata": {},
   "outputs": [
    {
     "data": {
      "text/html": [
       "<div>\n",
       "<style scoped>\n",
       "    .dataframe tbody tr th:only-of-type {\n",
       "        vertical-align: middle;\n",
       "    }\n",
       "\n",
       "    .dataframe tbody tr th {\n",
       "        vertical-align: top;\n",
       "    }\n",
       "\n",
       "    .dataframe thead th {\n",
       "        text-align: right;\n",
       "    }\n",
       "</style>\n",
       "<table border=\"1\" class=\"dataframe\">\n",
       "  <thead>\n",
       "    <tr style=\"text-align: right;\">\n",
       "      <th></th>\n",
       "      <th>tconst</th>\n",
       "      <th>averageRating</th>\n",
       "      <th>numVotes</th>\n",
       "    </tr>\n",
       "  </thead>\n",
       "  <tbody>\n",
       "    <tr>\n",
       "      <th>0</th>\n",
       "      <td>tt0000001</td>\n",
       "      <td>5.7</td>\n",
       "      <td>2011</td>\n",
       "    </tr>\n",
       "    <tr>\n",
       "      <th>1</th>\n",
       "      <td>tt0000002</td>\n",
       "      <td>5.7</td>\n",
       "      <td>271</td>\n",
       "    </tr>\n",
       "    <tr>\n",
       "      <th>2</th>\n",
       "      <td>tt0000003</td>\n",
       "      <td>6.5</td>\n",
       "      <td>1931</td>\n",
       "    </tr>\n",
       "    <tr>\n",
       "      <th>3</th>\n",
       "      <td>tt0000004</td>\n",
       "      <td>5.4</td>\n",
       "      <td>179</td>\n",
       "    </tr>\n",
       "    <tr>\n",
       "      <th>4</th>\n",
       "      <td>tt0000005</td>\n",
       "      <td>6.2</td>\n",
       "      <td>2702</td>\n",
       "    </tr>\n",
       "  </tbody>\n",
       "</table>\n",
       "</div>"
      ],
      "text/plain": [
       "      tconst  averageRating  numVotes\n",
       "0  tt0000001            5.7      2011\n",
       "1  tt0000002            5.7       271\n",
       "2  tt0000003            6.5      1931\n",
       "3  tt0000004            5.4       179\n",
       "4  tt0000005            6.2      2702"
      ]
     },
     "execution_count": 6,
     "metadata": {},
     "output_type": "execute_result"
    }
   ],
   "source": [
    "df2.head()"
   ]
  },
  {
   "cell_type": "code",
   "execution_count": 7,
   "id": "3b624cf4",
   "metadata": {},
   "outputs": [],
   "source": [
    "merged_data = pd.merge(df1, df2, on='tconst')"
   ]
  },
  {
   "cell_type": "code",
   "execution_count": 8,
   "id": "55d7ba1d",
   "metadata": {},
   "outputs": [],
   "source": [
    "merged_data.head()\n",
    "\n",
    "\n",
    "\"ADDED\"\n",
    "merged_data.to_csv('old_data.csv', index=False)\n"
   ]
  },
  {
   "cell_type": "code",
   "execution_count": 9,
   "id": "4997a148",
   "metadata": {},
   "outputs": [],
   "source": [
    "filtered_data = merged_data[merged_data['titleType'] == 'movie']"
   ]
  },
  {
   "cell_type": "code",
   "execution_count": 10,
   "id": "117d5d3e",
   "metadata": {},
   "outputs": [
    {
     "data": {
      "text/html": [
       "<div>\n",
       "<style scoped>\n",
       "    .dataframe tbody tr th:only-of-type {\n",
       "        vertical-align: middle;\n",
       "    }\n",
       "\n",
       "    .dataframe tbody tr th {\n",
       "        vertical-align: top;\n",
       "    }\n",
       "\n",
       "    .dataframe thead th {\n",
       "        text-align: right;\n",
       "    }\n",
       "</style>\n",
       "<table border=\"1\" class=\"dataframe\">\n",
       "  <thead>\n",
       "    <tr style=\"text-align: right;\">\n",
       "      <th></th>\n",
       "      <th>tconst</th>\n",
       "      <th>titleType</th>\n",
       "      <th>primaryTitle</th>\n",
       "      <th>originalTitle</th>\n",
       "      <th>isAdult</th>\n",
       "      <th>startYear</th>\n",
       "      <th>endYear</th>\n",
       "      <th>runtimeMinutes</th>\n",
       "      <th>genres</th>\n",
       "      <th>averageRating</th>\n",
       "      <th>numVotes</th>\n",
       "    </tr>\n",
       "  </thead>\n",
       "  <tbody>\n",
       "    <tr>\n",
       "      <th>8</th>\n",
       "      <td>tt0000009</td>\n",
       "      <td>movie</td>\n",
       "      <td>Miss Jerry</td>\n",
       "      <td>Miss Jerry</td>\n",
       "      <td>0</td>\n",
       "      <td>1894</td>\n",
       "      <td>\\N</td>\n",
       "      <td>45</td>\n",
       "      <td>Romance</td>\n",
       "      <td>5.3</td>\n",
       "      <td>207</td>\n",
       "    </tr>\n",
       "    <tr>\n",
       "      <th>144</th>\n",
       "      <td>tt0000147</td>\n",
       "      <td>movie</td>\n",
       "      <td>The Corbett-Fitzsimmons Fight</td>\n",
       "      <td>The Corbett-Fitzsimmons Fight</td>\n",
       "      <td>0</td>\n",
       "      <td>1897</td>\n",
       "      <td>\\N</td>\n",
       "      <td>100</td>\n",
       "      <td>Documentary,News,Sport</td>\n",
       "      <td>5.3</td>\n",
       "      <td>489</td>\n",
       "    </tr>\n",
       "    <tr>\n",
       "      <th>333</th>\n",
       "      <td>tt0000502</td>\n",
       "      <td>movie</td>\n",
       "      <td>Bohemios</td>\n",
       "      <td>Bohemios</td>\n",
       "      <td>0</td>\n",
       "      <td>1905</td>\n",
       "      <td>\\N</td>\n",
       "      <td>100</td>\n",
       "      <td>\\N</td>\n",
       "      <td>4.1</td>\n",
       "      <td>15</td>\n",
       "    </tr>\n",
       "    <tr>\n",
       "      <th>365</th>\n",
       "      <td>tt0000574</td>\n",
       "      <td>movie</td>\n",
       "      <td>The Story of the Kelly Gang</td>\n",
       "      <td>The Story of the Kelly Gang</td>\n",
       "      <td>0</td>\n",
       "      <td>1906</td>\n",
       "      <td>\\N</td>\n",
       "      <td>70</td>\n",
       "      <td>Action,Adventure,Biography</td>\n",
       "      <td>6.0</td>\n",
       "      <td>861</td>\n",
       "    </tr>\n",
       "    <tr>\n",
       "      <th>373</th>\n",
       "      <td>tt0000591</td>\n",
       "      <td>movie</td>\n",
       "      <td>The Prodigal Son</td>\n",
       "      <td>L'enfant prodigue</td>\n",
       "      <td>0</td>\n",
       "      <td>1907</td>\n",
       "      <td>\\N</td>\n",
       "      <td>90</td>\n",
       "      <td>Drama</td>\n",
       "      <td>5.0</td>\n",
       "      <td>21</td>\n",
       "    </tr>\n",
       "  </tbody>\n",
       "</table>\n",
       "</div>"
      ],
      "text/plain": [
       "        tconst titleType                   primaryTitle  \\\n",
       "8    tt0000009     movie                     Miss Jerry   \n",
       "144  tt0000147     movie  The Corbett-Fitzsimmons Fight   \n",
       "333  tt0000502     movie                       Bohemios   \n",
       "365  tt0000574     movie    The Story of the Kelly Gang   \n",
       "373  tt0000591     movie               The Prodigal Son   \n",
       "\n",
       "                     originalTitle isAdult startYear endYear runtimeMinutes  \\\n",
       "8                       Miss Jerry       0      1894      \\N             45   \n",
       "144  The Corbett-Fitzsimmons Fight       0      1897      \\N            100   \n",
       "333                       Bohemios       0      1905      \\N            100   \n",
       "365    The Story of the Kelly Gang       0      1906      \\N             70   \n",
       "373              L'enfant prodigue       0      1907      \\N             90   \n",
       "\n",
       "                         genres  averageRating  numVotes  \n",
       "8                       Romance            5.3       207  \n",
       "144      Documentary,News,Sport            5.3       489  \n",
       "333                          \\N            4.1        15  \n",
       "365  Action,Adventure,Biography            6.0       861  \n",
       "373                       Drama            5.0        21  "
      ]
     },
     "execution_count": 10,
     "metadata": {},
     "output_type": "execute_result"
    }
   ],
   "source": [
    "filtered_data.head()"
   ]
  },
  {
   "cell_type": "code",
   "execution_count": 11,
   "id": "14c734da",
   "metadata": {},
   "outputs": [],
   "source": [
    "merged_data['startYear'] = pd.to_numeric(merged_data['startYear'], errors='coerce')"
   ]
  },
  {
   "cell_type": "code",
   "execution_count": 12,
   "id": "30c32c2b",
   "metadata": {},
   "outputs": [],
   "source": [
    "filtered_data = merged_data[(merged_data['titleType'] == 'movie') & (merged_data['startYear'].notna()) & (merged_data['startYear'] >= 1990)]"
   ]
  },
  {
   "cell_type": "code",
   "execution_count": 13,
   "id": "ac6151a7",
   "metadata": {},
   "outputs": [
    {
     "name": "stderr",
     "output_type": "stream",
     "text": [
      "C:\\Users\\alper\\AppData\\Local\\Temp\\ipykernel_28980\\1469973035.py:1: SettingWithCopyWarning: \n",
      "A value is trying to be set on a copy of a slice from a DataFrame.\n",
      "Try using .loc[row_indexer,col_indexer] = value instead\n",
      "\n",
      "See the caveats in the documentation: https://pandas.pydata.org/pandas-docs/stable/user_guide/indexing.html#returning-a-view-versus-a-copy\n",
      "  filtered_data['startYear'] = filtered_data['startYear'].astype(int, errors='ignore')\n"
     ]
    }
   ],
   "source": [
    "filtered_data['startYear'] = filtered_data['startYear'].astype(int, errors='ignore')"
   ]
  },
  {
   "cell_type": "code",
   "execution_count": 14,
   "id": "3d175240",
   "metadata": {},
   "outputs": [
    {
     "data": {
      "text/html": [
       "<div>\n",
       "<style scoped>\n",
       "    .dataframe tbody tr th:only-of-type {\n",
       "        vertical-align: middle;\n",
       "    }\n",
       "\n",
       "    .dataframe tbody tr th {\n",
       "        vertical-align: top;\n",
       "    }\n",
       "\n",
       "    .dataframe thead th {\n",
       "        text-align: right;\n",
       "    }\n",
       "</style>\n",
       "<table border=\"1\" class=\"dataframe\">\n",
       "  <thead>\n",
       "    <tr style=\"text-align: right;\">\n",
       "      <th></th>\n",
       "      <th>tconst</th>\n",
       "      <th>titleType</th>\n",
       "      <th>primaryTitle</th>\n",
       "      <th>originalTitle</th>\n",
       "      <th>isAdult</th>\n",
       "      <th>startYear</th>\n",
       "      <th>endYear</th>\n",
       "      <th>runtimeMinutes</th>\n",
       "      <th>genres</th>\n",
       "      <th>averageRating</th>\n",
       "      <th>numVotes</th>\n",
       "    </tr>\n",
       "  </thead>\n",
       "  <tbody>\n",
       "    <tr>\n",
       "      <th>3592</th>\n",
       "      <td>tt0013274</td>\n",
       "      <td>movie</td>\n",
       "      <td>Istoriya grazhdanskoy voyny</td>\n",
       "      <td>Istoriya grazhdanskoy voyny</td>\n",
       "      <td>0</td>\n",
       "      <td>2021</td>\n",
       "      <td>\\N</td>\n",
       "      <td>94</td>\n",
       "      <td>Documentary</td>\n",
       "      <td>6.8</td>\n",
       "      <td>62</td>\n",
       "    </tr>\n",
       "    <tr>\n",
       "      <th>4267</th>\n",
       "      <td>tt0015414</td>\n",
       "      <td>movie</td>\n",
       "      <td>La tierra de los toros</td>\n",
       "      <td>La tierra de los toros</td>\n",
       "      <td>0</td>\n",
       "      <td>2000</td>\n",
       "      <td>\\N</td>\n",
       "      <td>60</td>\n",
       "      <td>\\N</td>\n",
       "      <td>5.2</td>\n",
       "      <td>16</td>\n",
       "    </tr>\n",
       "    <tr>\n",
       "      <th>4382</th>\n",
       "      <td>tt0015724</td>\n",
       "      <td>movie</td>\n",
       "      <td>Dama de noche</td>\n",
       "      <td>Dama de noche</td>\n",
       "      <td>0</td>\n",
       "      <td>1993</td>\n",
       "      <td>\\N</td>\n",
       "      <td>102</td>\n",
       "      <td>Drama,Mystery,Romance</td>\n",
       "      <td>6.1</td>\n",
       "      <td>27</td>\n",
       "    </tr>\n",
       "    <tr>\n",
       "      <th>12138</th>\n",
       "      <td>tt0028248</td>\n",
       "      <td>movie</td>\n",
       "      <td>Shipmates o' Mine</td>\n",
       "      <td>Shipmates o' Mine</td>\n",
       "      <td>0</td>\n",
       "      <td>2022</td>\n",
       "      <td>\\N</td>\n",
       "      <td>87</td>\n",
       "      <td>Musical</td>\n",
       "      <td>4.2</td>\n",
       "      <td>42</td>\n",
       "    </tr>\n",
       "    <tr>\n",
       "      <th>17995</th>\n",
       "      <td>tt0035423</td>\n",
       "      <td>movie</td>\n",
       "      <td>Kate &amp; Leopold</td>\n",
       "      <td>Kate &amp; Leopold</td>\n",
       "      <td>0</td>\n",
       "      <td>2001</td>\n",
       "      <td>\\N</td>\n",
       "      <td>118</td>\n",
       "      <td>Comedy,Fantasy,Romance</td>\n",
       "      <td>6.4</td>\n",
       "      <td>88220</td>\n",
       "    </tr>\n",
       "  </tbody>\n",
       "</table>\n",
       "</div>"
      ],
      "text/plain": [
       "          tconst titleType                 primaryTitle  \\\n",
       "3592   tt0013274     movie  Istoriya grazhdanskoy voyny   \n",
       "4267   tt0015414     movie       La tierra de los toros   \n",
       "4382   tt0015724     movie                Dama de noche   \n",
       "12138  tt0028248     movie            Shipmates o' Mine   \n",
       "17995  tt0035423     movie               Kate & Leopold   \n",
       "\n",
       "                     originalTitle isAdult  startYear endYear runtimeMinutes  \\\n",
       "3592   Istoriya grazhdanskoy voyny       0       2021      \\N             94   \n",
       "4267        La tierra de los toros       0       2000      \\N             60   \n",
       "4382                 Dama de noche       0       1993      \\N            102   \n",
       "12138            Shipmates o' Mine       0       2022      \\N             87   \n",
       "17995               Kate & Leopold       0       2001      \\N            118   \n",
       "\n",
       "                       genres  averageRating  numVotes  \n",
       "3592              Documentary            6.8        62  \n",
       "4267                       \\N            5.2        16  \n",
       "4382    Drama,Mystery,Romance            6.1        27  \n",
       "12138                 Musical            4.2        42  \n",
       "17995  Comedy,Fantasy,Romance            6.4     88220  "
      ]
     },
     "execution_count": 14,
     "metadata": {},
     "output_type": "execute_result"
    }
   ],
   "source": [
    "filtered_data.head()"
   ]
  },
  {
   "cell_type": "code",
   "execution_count": 15,
   "id": "b838616e",
   "metadata": {
    "scrolled": true
   },
   "outputs": [
    {
     "name": "stderr",
     "output_type": "stream",
     "text": [
      "C:\\Users\\alper\\AppData\\Local\\Temp\\ipykernel_28980\\826935957.py:1: SettingWithCopyWarning: \n",
      "A value is trying to be set on a copy of a slice from a DataFrame\n",
      "\n",
      "See the caveats in the documentation: https://pandas.pydata.org/pandas-docs/stable/user_guide/indexing.html#returning-a-view-versus-a-copy\n",
      "  filtered_data.drop(['primaryTitle', 'endYear', 'runtimeMinutes'], axis=1, inplace=True)\n"
     ]
    }
   ],
   "source": [
    "filtered_data.drop(['primaryTitle', 'endYear', 'runtimeMinutes'], axis=1, inplace=True)\n"
   ]
  },
  {
   "cell_type": "code",
   "execution_count": 16,
   "id": "d8549a03",
   "metadata": {
    "scrolled": true
   },
   "outputs": [
    {
     "data": {
      "text/html": [
       "<div>\n",
       "<style scoped>\n",
       "    .dataframe tbody tr th:only-of-type {\n",
       "        vertical-align: middle;\n",
       "    }\n",
       "\n",
       "    .dataframe tbody tr th {\n",
       "        vertical-align: top;\n",
       "    }\n",
       "\n",
       "    .dataframe thead th {\n",
       "        text-align: right;\n",
       "    }\n",
       "</style>\n",
       "<table border=\"1\" class=\"dataframe\">\n",
       "  <thead>\n",
       "    <tr style=\"text-align: right;\">\n",
       "      <th></th>\n",
       "      <th>tconst</th>\n",
       "      <th>titleType</th>\n",
       "      <th>originalTitle</th>\n",
       "      <th>isAdult</th>\n",
       "      <th>startYear</th>\n",
       "      <th>genres</th>\n",
       "      <th>averageRating</th>\n",
       "      <th>numVotes</th>\n",
       "    </tr>\n",
       "  </thead>\n",
       "  <tbody>\n",
       "    <tr>\n",
       "      <th>3592</th>\n",
       "      <td>tt0013274</td>\n",
       "      <td>movie</td>\n",
       "      <td>Istoriya grazhdanskoy voyny</td>\n",
       "      <td>0</td>\n",
       "      <td>2021</td>\n",
       "      <td>Documentary</td>\n",
       "      <td>6.8</td>\n",
       "      <td>62</td>\n",
       "    </tr>\n",
       "    <tr>\n",
       "      <th>4267</th>\n",
       "      <td>tt0015414</td>\n",
       "      <td>movie</td>\n",
       "      <td>La tierra de los toros</td>\n",
       "      <td>0</td>\n",
       "      <td>2000</td>\n",
       "      <td>\\N</td>\n",
       "      <td>5.2</td>\n",
       "      <td>16</td>\n",
       "    </tr>\n",
       "    <tr>\n",
       "      <th>4382</th>\n",
       "      <td>tt0015724</td>\n",
       "      <td>movie</td>\n",
       "      <td>Dama de noche</td>\n",
       "      <td>0</td>\n",
       "      <td>1993</td>\n",
       "      <td>Drama,Mystery,Romance</td>\n",
       "      <td>6.1</td>\n",
       "      <td>27</td>\n",
       "    </tr>\n",
       "    <tr>\n",
       "      <th>12138</th>\n",
       "      <td>tt0028248</td>\n",
       "      <td>movie</td>\n",
       "      <td>Shipmates o' Mine</td>\n",
       "      <td>0</td>\n",
       "      <td>2022</td>\n",
       "      <td>Musical</td>\n",
       "      <td>4.2</td>\n",
       "      <td>42</td>\n",
       "    </tr>\n",
       "    <tr>\n",
       "      <th>17995</th>\n",
       "      <td>tt0035423</td>\n",
       "      <td>movie</td>\n",
       "      <td>Kate &amp; Leopold</td>\n",
       "      <td>0</td>\n",
       "      <td>2001</td>\n",
       "      <td>Comedy,Fantasy,Romance</td>\n",
       "      <td>6.4</td>\n",
       "      <td>88220</td>\n",
       "    </tr>\n",
       "  </tbody>\n",
       "</table>\n",
       "</div>"
      ],
      "text/plain": [
       "          tconst titleType                originalTitle isAdult  startYear  \\\n",
       "3592   tt0013274     movie  Istoriya grazhdanskoy voyny       0       2021   \n",
       "4267   tt0015414     movie       La tierra de los toros       0       2000   \n",
       "4382   tt0015724     movie                Dama de noche       0       1993   \n",
       "12138  tt0028248     movie            Shipmates o' Mine       0       2022   \n",
       "17995  tt0035423     movie               Kate & Leopold       0       2001   \n",
       "\n",
       "                       genres  averageRating  numVotes  \n",
       "3592              Documentary            6.8        62  \n",
       "4267                       \\N            5.2        16  \n",
       "4382    Drama,Mystery,Romance            6.1        27  \n",
       "12138                 Musical            4.2        42  \n",
       "17995  Comedy,Fantasy,Romance            6.4     88220  "
      ]
     },
     "execution_count": 16,
     "metadata": {},
     "output_type": "execute_result"
    }
   ],
   "source": [
    "filtered_data.head()"
   ]
  },
  {
   "cell_type": "code",
   "execution_count": 17,
   "id": "f4442ec7",
   "metadata": {},
   "outputs": [],
   "source": [
    "filtered_data = filtered_data[filtered_data['genres'] != '\\\\N']\n"
   ]
  },
  {
   "cell_type": "code",
   "execution_count": 18,
   "id": "1913eef7",
   "metadata": {},
   "outputs": [
    {
     "data": {
      "text/html": [
       "<div>\n",
       "<style scoped>\n",
       "    .dataframe tbody tr th:only-of-type {\n",
       "        vertical-align: middle;\n",
       "    }\n",
       "\n",
       "    .dataframe tbody tr th {\n",
       "        vertical-align: top;\n",
       "    }\n",
       "\n",
       "    .dataframe thead th {\n",
       "        text-align: right;\n",
       "    }\n",
       "</style>\n",
       "<table border=\"1\" class=\"dataframe\">\n",
       "  <thead>\n",
       "    <tr style=\"text-align: right;\">\n",
       "      <th></th>\n",
       "      <th>tconst</th>\n",
       "      <th>titleType</th>\n",
       "      <th>originalTitle</th>\n",
       "      <th>isAdult</th>\n",
       "      <th>startYear</th>\n",
       "      <th>genres</th>\n",
       "      <th>averageRating</th>\n",
       "      <th>numVotes</th>\n",
       "    </tr>\n",
       "  </thead>\n",
       "  <tbody>\n",
       "    <tr>\n",
       "      <th>3592</th>\n",
       "      <td>tt0013274</td>\n",
       "      <td>movie</td>\n",
       "      <td>Istoriya grazhdanskoy voyny</td>\n",
       "      <td>0</td>\n",
       "      <td>2021</td>\n",
       "      <td>Documentary</td>\n",
       "      <td>6.8</td>\n",
       "      <td>62</td>\n",
       "    </tr>\n",
       "    <tr>\n",
       "      <th>4382</th>\n",
       "      <td>tt0015724</td>\n",
       "      <td>movie</td>\n",
       "      <td>Dama de noche</td>\n",
       "      <td>0</td>\n",
       "      <td>1993</td>\n",
       "      <td>Drama,Mystery,Romance</td>\n",
       "      <td>6.1</td>\n",
       "      <td>27</td>\n",
       "    </tr>\n",
       "    <tr>\n",
       "      <th>12138</th>\n",
       "      <td>tt0028248</td>\n",
       "      <td>movie</td>\n",
       "      <td>Shipmates o' Mine</td>\n",
       "      <td>0</td>\n",
       "      <td>2022</td>\n",
       "      <td>Musical</td>\n",
       "      <td>4.2</td>\n",
       "      <td>42</td>\n",
       "    </tr>\n",
       "    <tr>\n",
       "      <th>17995</th>\n",
       "      <td>tt0035423</td>\n",
       "      <td>movie</td>\n",
       "      <td>Kate &amp; Leopold</td>\n",
       "      <td>0</td>\n",
       "      <td>2001</td>\n",
       "      <td>Comedy,Fantasy,Romance</td>\n",
       "      <td>6.4</td>\n",
       "      <td>88220</td>\n",
       "    </tr>\n",
       "    <tr>\n",
       "      <th>20190</th>\n",
       "      <td>tt0038086</td>\n",
       "      <td>movie</td>\n",
       "      <td>Shiva und die Galgenblume</td>\n",
       "      <td>0</td>\n",
       "      <td>1993</td>\n",
       "      <td>Thriller</td>\n",
       "      <td>7.0</td>\n",
       "      <td>27</td>\n",
       "    </tr>\n",
       "  </tbody>\n",
       "</table>\n",
       "</div>"
      ],
      "text/plain": [
       "          tconst titleType                originalTitle isAdult  startYear  \\\n",
       "3592   tt0013274     movie  Istoriya grazhdanskoy voyny       0       2021   \n",
       "4382   tt0015724     movie                Dama de noche       0       1993   \n",
       "12138  tt0028248     movie            Shipmates o' Mine       0       2022   \n",
       "17995  tt0035423     movie               Kate & Leopold       0       2001   \n",
       "20190  tt0038086     movie    Shiva und die Galgenblume       0       1993   \n",
       "\n",
       "                       genres  averageRating  numVotes  \n",
       "3592              Documentary            6.8        62  \n",
       "4382    Drama,Mystery,Romance            6.1        27  \n",
       "12138                 Musical            4.2        42  \n",
       "17995  Comedy,Fantasy,Romance            6.4     88220  \n",
       "20190                Thriller            7.0        27  "
      ]
     },
     "execution_count": 18,
     "metadata": {},
     "output_type": "execute_result"
    }
   ],
   "source": [
    "filtered_data.head()"
   ]
  },
  {
   "cell_type": "code",
   "execution_count": 19,
   "id": "e4fb934b",
   "metadata": {},
   "outputs": [
    {
     "name": "stdout",
     "output_type": "stream",
     "text": [
      "           startYear  averageRating      numVotes\n",
      "count  195730.000000  195730.000000  1.957300e+05\n",
      "mean     2011.228171       6.231161  4.731642e+03\n",
      "std         8.649882       1.469142  4.187822e+04\n",
      "min      1990.000000       1.000000  5.000000e+00\n",
      "25%      2006.000000       5.300000  2.000000e+01\n",
      "50%      2013.000000       6.400000  7.300000e+01\n",
      "75%      2018.000000       7.200000  4.010000e+02\n",
      "max      2023.000000      10.000000  2.832685e+06\n"
     ]
    }
   ],
   "source": [
    "print(filtered_data.describe())"
   ]
  },
  {
   "cell_type": "code",
   "execution_count": 20,
   "id": "ff05aba9",
   "metadata": {},
   "outputs": [
    {
     "data": {
      "image/png": "[encoded data removed]",
      "text/plain": [
       "<Figure size 640x480 with 1 Axes>"
      ]
     },
     "metadata": {},
     "output_type": "display_data"
    }
   ],
   "source": [
    "# Rating dağılımını görselleştir\n",
    "plt.hist(filtered_data['averageRating'])\n",
    "plt.xlabel('averageRating')\n",
    "plt.ylabel('Film Sayısı')\n",
    "plt.title('Rating Dağılımı')\n",
    "plt.show()\n"
   ]
  },
  {
   "cell_type": "code",
   "execution_count": 21,
   "id": "03a691a2",
   "metadata": {},
   "outputs": [
    {
     "name": "stdout",
     "output_type": "stream",
     "text": [
      "genres\n",
      "Drama                             32703\n",
      "Documentary                       29313\n",
      "Comedy                            14393\n",
      "Comedy,Drama                       7153\n",
      "Horror                             6090\n",
      "                                  ...  \n",
      "Documentary,Talk-Show,Thriller        1\n",
      "Animation,Biography,Music             1\n",
      "Documentary,Horror,Music              1\n",
      "Animation,History,Musical             1\n",
      "Action,Documentary,Mystery            1\n",
      "Name: count, Length: 1110, dtype: int64\n",
      "          tconst titleType                originalTitle isAdult  startYear  \\\n",
      "3592   tt0013274     movie  Istoriya grazhdanskoy voyny       0       2021   \n",
      "4382   tt0015724     movie                Dama de noche       0       1993   \n",
      "12138  tt0028248     movie            Shipmates o' Mine       0       2022   \n",
      "17995  tt0035423     movie               Kate & Leopold       0       2001   \n",
      "20190  tt0038086     movie    Shiva und die Galgenblume       0       1993   \n",
      "\n",
      "                       genres  averageRating  numVotes  \n",
      "3592              Documentary            6.8        62  \n",
      "4382    Drama,Mystery,Romance            6.1        27  \n",
      "12138                 Musical            4.2        42  \n",
      "17995  Comedy,Fantasy,Romance            6.4     88220  \n",
      "20190                Thriller            7.0        27  \n"
     ]
    }
   ],
   "source": [
    "kategori_counts = filtered_data['genres'].value_counts()\n",
    "print(kategori_counts)\n",
    "print(filtered_data.head())\n"
   ]
  },
  {
   "cell_type": "code",
   "execution_count": 22,
   "id": "8fe4beec",
   "metadata": {},
   "outputs": [
    {
     "name": "stdout",
     "output_type": "stream",
     "text": [
      "       startYear  averageRating  numVotes\n",
      "3592        2021            6.8        62\n",
      "4382        1993            6.1        27\n",
      "12138       2022            4.2        42\n",
      "17995       2001            6.4     88220\n",
      "20190       1993            7.0        27\n",
      "         startYear  averageRating  numVotes\n",
      "3592      0.878788       0.288889 -0.999960\n",
      "4382     -0.818182       0.133333 -0.999984\n",
      "12138     0.939394      -0.288889 -0.999974\n",
      "17995    -0.333333       0.200000 -0.937716\n",
      "20190    -0.818182       0.333333 -0.999984\n",
      "...            ...            ...       ...\n",
      "1382882   0.818182       0.066667 -0.998974\n",
      "1382886   0.818182       0.200000 -0.996015\n",
      "1382891   0.757576      -0.444444 -0.999992\n",
      "1382897   0.757576       0.688889 -0.999999\n",
      "1382910   0.636364       0.466667 -0.999996\n",
      "\n",
      "[195730 rows x 3 columns]\n",
      "               startYear  averageRating  numVotes\n",
      "startYear       1.000000       0.062970 -0.033978\n",
      "averageRating   0.062970       1.000000  0.056019\n",
      "numVotes       -0.033978       0.056019  1.000000\n"
     ]
    }
   ],
   "source": [
    "\"REMOVED\"\n",
    "#correlation_matrix = filtered_data.corr()\n",
    "#print(correlation_matrix)\n",
    "\n",
    "\"ADDED\"\n",
    "# AFTER\n",
    "# 7 and 8th items\n",
    "temp_df = filtered_data.iloc[:, [4,6,7]]\n",
    "print(temp_df.head())\n",
    "\n",
    "# Add year into corr.\n",
    "\n",
    "# Min-Max normalization process \n",
    "\n",
    "# Scales each element between 0 and 1 by dividing it by the range of values ​​for that column.\n",
    "normalized_df = (temp_df - temp_df.min()) / (temp_df.max() - temp_df.min()) \n",
    "\n",
    "# scaling between -1 and 1 \n",
    "normalized_df = 2 * normalized_df - 1\n",
    "\n",
    "print(normalized_df)\n",
    "\n",
    "correlation_matrix = normalized_df.corr()\n",
    "print(correlation_matrix.head())\n"
   ]
  },
  {
   "cell_type": "code",
   "execution_count": 23,
   "id": "807988e7",
   "metadata": {},
   "outputs": [
    {
     "data": {
      "text/plain": [
       "tconst           0\n",
       "titleType        0\n",
       "originalTitle    0\n",
       "isAdult          0\n",
       "startYear        0\n",
       "genres           0\n",
       "averageRating    0\n",
       "numVotes         0\n",
       "dtype: int64"
      ]
     },
     "execution_count": 23,
     "metadata": {},
     "output_type": "execute_result"
    }
   ],
   "source": [
    "filtered_data.isnull().sum()"
   ]
  },
  {
   "cell_type": "code",
   "execution_count": 24,
   "id": "ed5f1405",
   "metadata": {},
   "outputs": [
    {
     "data": {
      "text/plain": [
       "'REMOVED'"
      ]
     },
     "execution_count": 24,
     "metadata": {},
     "output_type": "execute_result"
    }
   ],
   "source": [
    "\"REMOVED\"\n",
    "#filtered_data = pd.get_dummies(filtered_data, columns=['genres'])"
   ]
  },
  {
   "cell_type": "code",
   "execution_count": 25,
   "id": "8dce971b",
   "metadata": {},
   "outputs": [
    {
     "name": "stdout",
     "output_type": "stream",
     "text": [
      "          tconst titleType                originalTitle isAdult  startYear  \\\n",
      "3592   tt0013274     movie  Istoriya grazhdanskoy voyny       0       2021   \n",
      "4382   tt0015724     movie                Dama de noche       0       1993   \n",
      "12138  tt0028248     movie            Shipmates o' Mine       0       2022   \n",
      "17995  tt0035423     movie               Kate & Leopold       0       2001   \n",
      "20190  tt0038086     movie    Shiva und die Galgenblume       0       1993   \n",
      "\n",
      "                       genres  averageRating  numVotes  \n",
      "3592              Documentary            6.8        62  \n",
      "4382    Drama,Mystery,Romance            6.1        27  \n",
      "12138                 Musical            4.2        42  \n",
      "17995  Comedy,Fantasy,Romance            6.4     88220  \n",
      "20190                Thriller            7.0        27  \n"
     ]
    }
   ],
   "source": [
    "# df, değiştirdiğiniz DataFrame'in adı olsun\n",
    "\n",
    "filtered_data.to_csv('new_data.csv', index=False)\n",
    "print(filtered_data.head())"
   ]
  },
  {
   "cell_type": "code",
   "execution_count": null,
   "id": "fde8a50f",
   "metadata": {},
   "outputs": [],
   "source": []
  }
 ],
 "metadata": {
  "kernelspec": {
   "display_name": "Python 3 (ipykernel)",
   "language": "python",
   "name": "python3"
  },
  "language_info": {
   "codemirror_mode": {
    "name": "ipython",
    "version": 3
   },
   "file_extension": ".py",
   "mimetype": "text/x-python",
   "name": "python",
   "nbconvert_exporter": "python",
   "pygments_lexer": "ipython3",
   "version": "3.11.5"
  }
 },
 "nbformat": 4,
 "nbformat_minor": 5
}
