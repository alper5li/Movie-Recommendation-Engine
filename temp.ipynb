{
 "cells": [
  {
   "cell_type": "markdown",
   "metadata": {},
   "source": [
    "We will use combinations tool for create a combination list for Advice Types to get best fitting result for user.\n",
    "Representation below only shows the logic of the tool, we will use kinda same thing."
   ]
  },
  {
   "cell_type": "code",
   "execution_count": 12,
   "metadata": {},
   "outputs": [
    {
     "name": "stdout",
     "output_type": "stream",
     "text": [
      "('H', 'E')\n",
      "('H', 'J')\n",
      "('H', 'F')\n",
      "('H', 'K')\n",
      "('E', 'J')\n",
      "('E', 'F')\n",
      "('E', 'K')\n",
      "('J', 'F')\n",
      "('J', 'K')\n",
      "('F', 'K')\n",
      "('H', 'E', 'J')\n",
      "('H', 'E', 'F')\n",
      "('H', 'E', 'K')\n",
      "('H', 'J', 'F')\n",
      "('H', 'J', 'K')\n",
      "('H', 'F', 'K')\n",
      "('E', 'J', 'F')\n",
      "('E', 'J', 'K')\n",
      "('E', 'F', 'K')\n",
      "('J', 'F', 'K')\n"
     ]
    }
   ],
   "source": [
    "from itertools import combinations\n",
    "\n",
    "list = {'K', 'H', 'F', 'J', 'E'}\n",
    "\n",
    "for r in range(len(list)-1):\n",
    "    list2 = combinations(list,r)\n",
    "\n",
    "for r in range(len(list)-2):\n",
    "    list3 = combinations(list,r)\n",
    "\n",
    "\n",
    "for o in list3:\n",
    "    print(o)\n",
    "    \n",
    "for o in list2:\n",
    "    print(o)"
   ]
  }
 ],
 "metadata": {
  "kernelspec": {
   "display_name": "Python 3",
   "language": "python",
   "name": "python3"
  },
  "language_info": {
   "codemirror_mode": {
    "name": "ipython",
    "version": 3
   },
   "file_extension": ".py",
   "mimetype": "text/x-python",
   "name": "python",
   "nbconvert_exporter": "python",
   "pygments_lexer": "ipython3",
   "version": "3.11.5"
  }
 },
 "nbformat": 4,
 "nbformat_minor": 2
}
