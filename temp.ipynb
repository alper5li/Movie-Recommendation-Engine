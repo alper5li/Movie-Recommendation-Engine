{
 "cells": [
  {
   "cell_type": "markdown",
   "metadata": {},
   "source": [
    "We will use combinations tool for create a combination list for Advice Types to get best fitting result for user.\n",
    "Representation below only shows the logic of the tool, we will use kinda same thing."
   ]
  },
  {
   "cell_type": "code",
   "execution_count": 22,
   "metadata": {},
   "outputs": [
    {
     "name": "stdout",
     "output_type": "stream",
     "text": [
      "{'H', 'F', ('F', 'H'), ('K', 'F', 'H'), 'K', ('K', 'H'), ('K', 'F')}\n",
      "7\n"
     ]
    }
   ],
   "source": [
    "from itertools import combinations\n",
    "comb = set()\n",
    "list = {'K', 'H', 'F'}\n",
    "\n",
    "asd = set()\n",
    "\n",
    "comb = set()\n",
    "for r in range(1, len(list) + 1):\n",
    "    comb.update(combinations(list, r))\n",
    "\n",
    "for c in comb:\n",
    "    if len(c) > 1:\n",
    "        asd.add(tuple(c))  # Birden fazla eleman varsa tuple olarak ekleyelim\n",
    "    elif c:\n",
    "        asd.add(c[0])  \n",
    "\n",
    "print(asd)\n",
    "print(len(asd))"
   ]
  }
 ],
 "metadata": {
  "kernelspec": {
   "display_name": "Python 3",
   "language": "python",
   "name": "python3"
  },
  "language_info": {
   "codemirror_mode": {
    "name": "ipython",
    "version": 3
   },
   "file_extension": ".py",
   "mimetype": "text/x-python",
   "name": "python",
   "nbconvert_exporter": "python",
   "pygments_lexer": "ipython3",
   "version": "3.11.5"
  }
 },
 "nbformat": 4,
 "nbformat_minor": 2
}
